{
 "cells": [
  {
   "cell_type": "code",
   "execution_count": 79,
   "id": "603e4d52",
   "metadata": {
    "collapsed": true
   },
   "outputs": [
    {
     "ename": "TabError",
     "evalue": "inconsistent use of tabs and spaces in indentation (948948457.py, line 7)",
     "output_type": "error",
     "traceback": [
      "\u001b[0;36m  Cell \u001b[0;32mIn[79], line 7\u001b[0;36m\u001b[0m\n\u001b[0;31m    stack = []  # Create an empty stack\u001b[0m\n\u001b[0m    ^\u001b[0m\n\u001b[0;31mTabError\u001b[0m\u001b[0;31m:\u001b[0m inconsistent use of tabs and spaces in indentation\n"
     ]
    }
   ],
   "source": [
    "\n",
    "\n",
    "class Solution(object):\n",
    "\n",
    "\n",
    "\t\n",
    "    def reverseString(self, s):\n",
    "\n",
    "\t\t\tstack = []  # Create an empty stack\n",
    "    # Push each character onto the stack\n",
    "\t\t\tfor char in s:\n",
    "\t\t\t\t\tstack.append(char)\n",
    "\t\t\t\n",
    "\t\t\t# Pop each character from the stack and assign to the string\n",
    "\t\t\tfor i in range(len(s)):\n",
    "\t\t\t\t\ts[i] = stack.pop()\n",
    "\t\t\treturn s\n",
    "\t\t\treturn solve(s)\n",
    "\n"
   ]
  },
  {
   "cell_type": "code",
   "execution_count": null,
   "id": "51d8aaac",
   "metadata": {},
   "outputs": [],
   "source": []
  }
 ],
 "metadata": {
  "kernelspec": {
   "display_name": "Python 3 (ipykernel)",
   "language": "python",
   "name": "python3"
  },
  "language_info": {
   "codemirror_mode": {
    "name": "ipython",
    "version": 3
   },
   "file_extension": ".py",
   "mimetype": "text/x-python",
   "name": "python",
   "nbconvert_exporter": "python",
   "pygments_lexer": "ipython3",
   "version": "3.10.8"
  }
 },
 "nbformat": 4,
 "nbformat_minor": 5
}
