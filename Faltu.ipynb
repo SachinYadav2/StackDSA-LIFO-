{
 "cells": [
  {
   "cell_type": "code",
   "execution_count": null,
   "id": "ff3b6dfd",
   "metadata": {},
   "outputs": [],
   "source": [
    "class Solution:\n",
    "    def knows(self, M, a, b, n):\n",
    "        if M[a][b] == 1:\n",
    "            return True\n",
    "        else:\n",
    "            return False\n",
    "\n",
    "    def celebrity(self, M, n):\n",
    "        stack = []\n",
    "        \n",
    "        # Step 1: Push all elements in the stack\n",
    "        for i in range(n):\n",
    "            stack.append(i)\n",
    "        \n",
    "        # Step 2: Compare pairs of elements\n",
    "        while len(stack) > 1:\n",
    "            a = stack.pop()\n",
    "            b = stack.pop()\n",
    "            \n",
    "            if self.knows(M, a, b, n):\n",
    "                stack.append(b)\n",
    "            else:\n",
    "                stack.append(a)\n",
    "        \n",
    "        ans = stack.pop()\n",
    "        \n",
    "        # Step 3: Verify potential celebrity\n",
    "        zeroCount = 0\n",
    "        for i in range(n):\n",
    "            if M[ans][i] == 0:\n",
    "                zeroCount += 1\n",
    "        \n",
    "        if zeroCount != n:\n",
    "            return -1\n",
    "        \n",
    "        oneCount = 0\n",
    "        for i in range(n):\n",
    "            if M[i][ans] == 1:\n",
    "                oneCount += 1\n",
    "        \n",
    "        if oneCount != n - 1:\n",
    "            return -1\n",
    "        \n",
    "        return ans\n",
    "\n",
    "\n",
    "t = int(input())\n",
    "for _ in range(t):\n",
    "    n = int(input())\n",
    "    M = []\n",
    "    for i in range(n):\n",
    "        row = list(map(int, input().split()))\n",
    "        M.append(row)\n",
    "    ob = Solution()\n",
    "    print(ob.celebrity(M, n))\n"
   ]
  },
  {
   "cell_type": "code",
   "execution_count": 83,
   "id": "67f6b3fb",
   "metadata": {},
   "outputs": [
    {
     "data": {
      "text/plain": [
       "2"
      ]
     },
     "execution_count": 83,
     "metadata": {},
     "output_type": "execute_result"
    }
   ],
   "source": []
  },
  {
   "cell_type": "code",
   "execution_count": null,
   "id": "331a896f",
   "metadata": {},
   "outputs": [],
   "source": []
  }
 ],
 "metadata": {
  "kernelspec": {
   "display_name": "Python 3 (ipykernel)",
   "language": "python",
   "name": "python3"
  },
  "language_info": {
   "codemirror_mode": {
    "name": "ipython",
    "version": 3
   },
   "file_extension": ".py",
   "mimetype": "text/x-python",
   "name": "python",
   "nbconvert_exporter": "python",
   "pygments_lexer": "ipython3",
   "version": "3.10.8"
  }
 },
 "nbformat": 4,
 "nbformat_minor": 5
}
